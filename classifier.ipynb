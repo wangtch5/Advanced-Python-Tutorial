{
 "cells": [
  {
   "cell_type": "code",
   "execution_count": 13,
   "metadata": {},
   "outputs": [],
   "source": [
    "import pandas as pd\n",
    "import numpy as np\n",
    "import fnmatch\n",
    "import os\n",
    "import re\n",
    "import nltk\n",
    "from sklearn.ensemble import RandomForestClassifier, GradientBoostingClassifier\n",
    "from sklearn.model_selection import cross_val_score\n",
    "from sklearn.feature_extraction.text import TfidfVectorizer\n",
    "from sklearn import preprocessing\n",
    "\n",
    "from nltk.corpus import stopwords\n",
    "stopwords = set(stopwords.words(\"english\"))\n",
    "\n",
    "class classifier_workshop():\n",
    "    \n",
    "    def get_files(self, tem_path):\n",
    "        data = pd.DataFrame()\n",
    "        for root, dir, files in os.walk(tem_path):\n",
    "            for items in fnmatch.filter(files, \"*\"):\n",
    "                tmp = root.split(\"/\")\n",
    "                tmp = tmp[len(tmp)-1]\n",
    "                if \".git\" not in tmp:\n",
    "                    abs_path = tem_path+tmp+\"/\"+items\n",
    "                    data = data.append({\"path\":abs_path, \"label\":tmp}, ignore_index=True)\n",
    "        return data\n",
    "    \n",
    "    def clean_text(self, df):\n",
    "        the_new_df = pd.DataFrame()\n",
    "        for file_name, the_label in zip(df[\"path\"][1:], df[\"label\"][1:]):\n",
    "        #     print file_name\n",
    "        #     print the_label\n",
    "            f = open(file_name, \"r\")\n",
    "            tem_text = f.readlines()\n",
    "            tem_text = \" \".join(tem_text)\n",
    "            the_text = tem_text.split()\n",
    "            the_text = [word.lower() for word in the_text]\n",
    "            the_text = [re.sub(r'[^a-z]', '', taken) for taken in the_text]\n",
    "            the_text = [word for word in the_text if word != \"\"]\n",
    "            the_text = [word for word in the_text if word not in stopwords]\n",
    "            the_text = \" \".join(the_text)\n",
    "\n",
    "            the_new_df = the_new_df.append({\"body\":the_text, \"label\":the_label}, ignore_index=True)\n",
    "            f.close()\n",
    "        return the_new_df\n",
    "    \n",
    "    def train_model(self, model, df):\n",
    "        vectorizer = TfidfVectorizer(max_features = 1000, ngram_range = (1,3))\n",
    "        the_vec = vectorizer.fit_transform(df.body).toarray()\n",
    "        tfidf = pd.DataFrame(the_vec)\n",
    "        tfidf.columns = vectorizer.get_feature_names()  \n",
    "\n",
    "        label_enc = preprocessing.LabelEncoder()\n",
    "        label_enc.fit(df[df.columns[1]])\n",
    "\n",
    "        tfidf[df.columns[1]] = [label_enc.transform([word])[0] for\n",
    "                                            word in df[df.columns[1]]]\n",
    "        the_score = cross_val_score(model, tfidf[tfidf.columns[0:-1]], \n",
    "                        tfidf[tfidf.columns[-1]], cv = 18)\n",
    "\n",
    "        model.fit(tfidf[tfidf.columns[0:-1]], tfidf[tfidf.columns[-1]])\n",
    "        return vectorizer, model, label_enc\n",
    "\n",
    "    def the_classify(self, v, m, l, to_predict = [\"six\"]):\n",
    "        tfidf_pred = v.transform(to_predict)\n",
    "\n",
    "        prediction = m.predict(tfidf_pred)\n",
    "        the_prob = pd.DataFrame(m.predict_proba(tfidf_pred))\n",
    "        the_prob.columns = l.classes_\n",
    "        the_pred = l.inverse_transform([prediction][0])\n",
    "\n",
    "        return the_pred\n",
    "        "
   ]
  },
  {
   "cell_type": "code",
   "execution_count": 2,
   "metadata": {},
   "outputs": [],
   "source": [
    "the_path = \"/Users/tianchenwang/workshop_data/\""
   ]
  },
  {
   "cell_type": "code",
   "execution_count": 3,
   "metadata": {},
   "outputs": [],
   "source": [
    "the_framework = classifier_workshop()\n",
    "\n",
    "the_df = the_framework.get_files(the_path)"
   ]
  },
  {
   "cell_type": "code",
   "execution_count": 4,
   "metadata": {},
   "outputs": [],
   "source": [
    "the_new_df = the_framework.clean_text(the_df)"
   ]
  },
  {
   "cell_type": "code",
   "execution_count": 5,
   "metadata": {},
   "outputs": [
    {
     "name": "stderr",
     "output_type": "stream",
     "text": [
      "/Users/tianchenwang/anaconda3/envs/py27/lib/python2.7/site-packages/sklearn/ensemble/forest.py:248: FutureWarning: The default value of n_estimators will change from 10 in version 0.20 to 100 in 0.22.\n",
      "  \"10 in version 0.20 to 100 in 0.22.\", FutureWarning)\n"
     ]
    }
   ],
   "source": [
    "v, m, l = the_framework.train_model(RandomForestClassifier(), the_new_df)\n"
   ]
  },
  {
   "cell_type": "code",
   "execution_count": 14,
   "metadata": {},
   "outputs": [
    {
     "data": {
      "text/plain": [
       "array(['hiking'], dtype=object)"
      ]
     },
     "execution_count": 14,
     "metadata": {},
     "output_type": "execute_result"
    }
   ],
   "source": [
    "the_framework.the_classify(v, m, l, ['six as ten oneaea adf'])"
   ]
  },
  {
   "cell_type": "code",
   "execution_count": null,
   "metadata": {},
   "outputs": [],
   "source": []
  },
  {
   "cell_type": "code",
   "execution_count": null,
   "metadata": {},
   "outputs": [],
   "source": [
    "def train_model(model, df):\n",
    "        vectorizer = TfidfVectorizer(max_features = 1000, ngram_range = (1,3))\n",
    "        the_vec = vectorizer.fit_transform(df.body).toarray()\n",
    "        tfidf = pd.DataFrame(the_vec)\n",
    "        tfidf.columns = vectorizer.get_feature_names()  \n",
    "\n",
    "        label_enc = preprocessing.LabelEncoder()\n",
    "        label_enc.fit(df[df.columns[1]])\n",
    "\n",
    "        tfidf[df.columns[1]] = [label_enc.transform([word])[0] for\n",
    "                                            word in df[df.columns[1]]]\n",
    "        the_score = cross_val_score(model, tfidf[tfidf.columns[0:-1]], \n",
    "                        tfidf[tfidf.columns[-1]], cv = 18)\n",
    "\n",
    "        model.fit(tfidf[tfidf.columns[0:-1]], tfidf[tfidf.columns[-1]])\n",
    "        return vectorizer, model, label_enc"
   ]
  }
 ],
 "metadata": {
  "kernelspec": {
   "display_name": "Python 2",
   "language": "python",
   "name": "python2"
  },
  "language_info": {
   "codemirror_mode": {
    "name": "ipython",
    "version": 2
   },
   "file_extension": ".py",
   "mimetype": "text/x-python",
   "name": "python",
   "nbconvert_exporter": "python",
   "pygments_lexer": "ipython2",
   "version": "2.7.15"
  }
 },
 "nbformat": 4,
 "nbformat_minor": 2
}
